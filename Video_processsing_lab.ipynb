{
  "cells": [
    {
      "cell_type": "code",
      "execution_count": 1,
      "metadata": {
        "colab": {
          "base_uri": "https://localhost:8080/",
          "height": 0
        },
        "id": "FLZmDFY0DNDu",
        "outputId": "5d88bc89-76c7-432c-e50c-88f6a66ff0f4"
      },
      "outputs": [
        {
          "name": "stdout",
          "output_type": "stream",
          "text": [
            "Drive already mounted at /content/drive; to attempt to forcibly remount, call drive.mount(\"/content/drive\", force_remount=True).\n"
          ]
        }
      ],
      "source": [
        "#mount drive to get access to videos and folders\n",
        "from google.colab import drive\n",
        "drive.mount('/content/drive')"
      ]
    },
    {
      "cell_type": "code",
      "execution_count": null,
      "metadata": {
        "id": "Mp3-A9mDDNxr"
      },
      "outputs": [],
      "source": [
        "import cv2\n",
        "from google.colab.patches import cv2_imshow\n",
        "import os\n",
        "from skimage import color, img_as_float, io\n",
        "import matplotlib.pyplot as plt\n",
        "\n",
        "#path to save frames that are significantly different from the previous frame\n",
        "output_pathpath = '/content/drive/MyDrive/SARA/frames/'\n",
        "\n",
        "#read the video\n",
        "path = '/content/drive/MyDrive/SARA/trafficvideoslower.mp4'\n",
        "vid = cv2.VideoCapture(path)\n",
        "\n",
        "#check is video is open\n",
        "if not vid.isOpened():\n",
        "    print(\"Error: Could not open video file\")\n",
        "    exit()\n",
        "\n",
        "prev_frame = None\n",
        "count=0\n",
        "\n",
        "output_path = output_pathpath\n",
        "os.chdir(output_pathpath)\n",
        "\n",
        "while True:\n",
        "  ret, frame = vid.read() #reads the next frame of the video with each loop\n",
        "\n",
        "  if frame is None:\n",
        "    break #End of video\n",
        "\n",
        "  if prev_frame is not None: #this will make comparison starts from the second frame\n",
        "\n",
        "    prev_gray = cv2.cvtColor(prev_frame, cv2.COLOR_BGR2GRAY) #convert previous frame to grayscale\n",
        "    curr_gray = cv2.cvtColor(frame, cv2.COLOR_BGR2GRAY) #convert current frame to grayscale\n",
        "\n",
        "    prev_blur = cv2.GaussianBlur(prev_gray, (25, 25), 0) #reduces noise and smooths the image on previous frame\n",
        "    curr_blur = cv2.GaussianBlur(curr_gray, (25, 25), 0) #reduces noise and smooths the image on current frame\n",
        "\n",
        "    #calculate the absolute difference between previous and current blured frame\n",
        "    diff_frame = cv2.absdiff(prev_blur, curr_blur) #the result is an image that highlights the pixels where there is a big difference\n",
        "\n",
        "    _, threshold_frame = cv2.threshold(diff_frame, 20, 255, cv2.THRESH_BINARY) #creates a binary image where moving areas are white\n",
        "\n",
        "     # Add these lines to merge nearby regions (car parts)\n",
        "    kernel = cv2.getStructuringElement(cv2.MORPH_RECT, (10, 10))\n",
        "    threshold_frame = cv2.dilate(threshold_frame, kernel, iterations=2)\n",
        "\n",
        "    #detect contours in the binary threshold frame\n",
        "    contours, _ = cv2.findContours(threshold_frame, cv2.RETR_EXTERNAL, cv2.CHAIN_APPROX_SIMPLE)\n",
        "\n",
        "   #look through all the contours and draw a reclangle around them\n",
        "    movement_detected = False\n",
        "    for contour in contours:\n",
        "        if 4500 < cv2.contourArea(contour) < 100000:\n",
        "          (x, y, w, h) = cv2.boundingRect(contour)\n",
        "          cv2.rectangle(frame, (x,y), (x+w, y+h), (0, 0, 255), 2)\n",
        "          movement_detected = True\n",
        "    if movement_detected:\n",
        "        cv2.imwrite(output_path+ \"%d.png\" %count, frame)#save the frame if it's different\n",
        "        count+=1\n",
        "\n",
        "  prev_frame = frame #next frame\n",
        "\n",
        "vid.release()"
      ]
    }
  ],
  "metadata": {
    "colab": {
      "provenance": []
    },
    "kernelspec": {
      "display_name": "Python 3",
      "name": "python3"
    },
    "language_info": {
      "name": "python"
    }
  },
  "nbformat": 4,
  "nbformat_minor": 0
}
